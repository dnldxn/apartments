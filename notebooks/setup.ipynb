{
 "cells": [
  {
   "cell_type": "code",
   "execution_count": 1,
   "metadata": {},
   "outputs": [
    {
     "name": "stdout",
     "output_type": "stream",
     "text": [
      "Collecting package metadata: done\n",
      "Solving environment: done\n",
      "\n",
      "\n",
      "==> WARNING: A newer version of conda exists. <==\n",
      "  current version: 4.6.4\n",
      "  latest version: 4.6.8\n",
      "\n",
      "Please update conda by running\n",
      "\n",
      "    $ conda update -n base conda\n",
      "\n",
      "\n",
      "\n",
      "## Package Plan ##\n",
      "\n",
      "  environment location: /opt/conda\n",
      "\n",
      "  added / updated specs:\n",
      "    - beautifulsoup4\n",
      "    - psycopg2\n",
      "    - pymongo\n",
      "    - requests\n",
      "\n",
      "\n",
      "The following packages will be downloaded:\n",
      "\n",
      "    package                    |            build\n",
      "    ---------------------------|-----------------\n",
      "    beautifulsoup4-4.7.1       |        py37_1001         140 KB  conda-forge\n",
      "    ca-certificates-2019.3.9   |       hecc5488_0         146 KB  conda-forge\n",
      "    certifi-2019.3.9           |           py37_0         149 KB  conda-forge\n",
      "    libpq-11.2                 |       h20c2e04_0         2.7 MB  defaults\n",
      "    openssl-1.1.1b             |       h14c3975_1         4.0 MB  conda-forge\n",
      "    psycopg2-2.7.7             |   py37h72c5cf5_2         297 KB  conda-forge\n",
      "    pymongo-3.7.2              |   py37hf484d3e_0         971 KB  conda-forge\n",
      "    soupsieve-1.8              |           py37_0         102 KB  conda-forge\n",
      "    ------------------------------------------------------------\n",
      "                                           Total:         8.4 MB\n",
      "\n",
      "The following NEW packages will be INSTALLED:\n",
      "\n",
      "  beautifulsoup4     conda-forge/linux-64::beautifulsoup4-4.7.1-py37_1001\n",
      "  libpq              pkgs/main/linux-64::libpq-11.2-h20c2e04_0\n",
      "  psycopg2           conda-forge/linux-64::psycopg2-2.7.7-py37h72c5cf5_2\n",
      "  pymongo            conda-forge/linux-64::pymongo-3.7.2-py37hf484d3e_0\n",
      "  soupsieve          conda-forge/linux-64::soupsieve-1.8-py37_0\n",
      "\n",
      "The following packages will be UPDATED:\n",
      "\n",
      "  ca-certificates                     2018.11.29-ha4d7672_0 --> 2019.3.9-hecc5488_0\n",
      "  certifi                              2018.11.29-py37_1000 --> 2019.3.9-py37_0\n",
      "  openssl                              1.1.1a-h14c3975_1000 --> 1.1.1b-h14c3975_1\n",
      "\n",
      "\n",
      "\n",
      "Downloading and Extracting Packages\n",
      "soupsieve-1.8        | 102 KB    | ##################################### | 100% \n",
      "psycopg2-2.7.7       | 297 KB    | ##################################### | 100% \n",
      "pymongo-3.7.2        | 971 KB    | ##################################### | 100% \n",
      "ca-certificates-2019 | 146 KB    | ##################################### | 100% \n",
      "beautifulsoup4-4.7.1 | 140 KB    | ##################################### | 100% \n",
      "certifi-2019.3.9     | 149 KB    | ##################################### | 100% \n",
      "openssl-1.1.1b       | 4.0 MB    | ##################################### | 100% \n",
      "libpq-11.2           | 2.7 MB    | ##################################### | 100% \n",
      "Preparing transaction: done\n",
      "Verifying transaction: done\n",
      "Executing transaction: done\n"
     ]
    }
   ],
   "source": [
    "!conda install -y requests beautifulsoup4 psycopg2 pymongo"
   ]
  }
 ],
 "metadata": {
  "kernelspec": {
   "display_name": "Python 3",
   "language": "python",
   "name": "python3"
  },
  "language_info": {
   "codemirror_mode": {
    "name": "ipython",
    "version": 3
   },
   "file_extension": ".py",
   "mimetype": "text/x-python",
   "name": "python",
   "nbconvert_exporter": "python",
   "pygments_lexer": "ipython3",
   "version": "3.7.2"
  }
 },
 "nbformat": 4,
 "nbformat_minor": 2
}
