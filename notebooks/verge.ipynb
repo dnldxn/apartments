{
 "cells": [
  {
   "cell_type": "code",
   "execution_count": 2,
   "metadata": {},
   "outputs": [],
   "source": [
    "from bs4 import BeautifulSoup\n",
    "import requests\n",
    "import re\n",
    "from pymongo import MongoClient"
   ]
  },
  {
   "cell_type": "code",
   "execution_count": 6,
   "metadata": {},
   "outputs": [
    {
     "data": {
      "text/plain": [
       "[{'apartment': 'The Verge',\n",
       "  'floorplan': 'The Cusp',\n",
       "  'unit': '2380',\n",
       "  'floor': -1,\n",
       "  'lease_15': 2280,\n",
       "  'lease_14': 2280,\n",
       "  'lease_13': 2280,\n",
       "  'lease_12': 2280,\n",
       "  'lease_11': 2312,\n",
       "  'lease_10': 2327,\n",
       "  'lease_9': 2346,\n",
       "  'lease_8': 2378,\n",
       "  'lease_7': 2420,\n",
       "  'lease_6': 2477,\n",
       "  'lease_5': 3953,\n",
       "  'lease_4': 2673,\n",
       "  'lease_3': 2870},\n",
       " {'apartment': 'The Verge',\n",
       "  'floorplan': 'The Cusp',\n",
       "  'unit': '1466',\n",
       "  'floor': -1,\n",
       "  'lease_15': 2395,\n",
       "  'lease_14': 2406,\n",
       "  'lease_13': 2395,\n",
       "  'lease_12': 2428,\n",
       "  'lease_11': 2449,\n",
       "  'lease_10': 2434,\n",
       "  'lease_9': 2523,\n",
       "  'lease_8': 2553,\n",
       "  'lease_7': 2592,\n",
       "  'lease_6': 2605,\n",
       "  'lease_5': 2718,\n",
       "  'lease_4': 2848,\n",
       "  'lease_3': 5433},\n",
       " {'apartment': 'The Verge',\n",
       "  'floorplan': 'The Cusp',\n",
       "  'unit': '2639',\n",
       "  'floor': -1,\n",
       "  'lease_15': 2330,\n",
       "  'lease_14': 2341,\n",
       "  'lease_13': 2330,\n",
       "  'lease_12': 2362,\n",
       "  'lease_11': 2383,\n",
       "  'lease_10': 2369,\n",
       "  'lease_9': 2456,\n",
       "  'lease_8': 2486,\n",
       "  'lease_7': 2525,\n",
       "  'lease_6': 2540,\n",
       "  'lease_5': 2652,\n",
       "  'lease_4': 2781,\n",
       "  'lease_3': 5302},\n",
       " {'apartment': 'The Verge',\n",
       "  'floorplan': 'Greenway',\n",
       "  'unit': '1367',\n",
       "  'floor': -1,\n",
       "  'lease_15': 2499,\n",
       "  'lease_14': 2529,\n",
       "  'lease_13': 2531,\n",
       "  'lease_12': 2499,\n",
       "  'lease_11': 2572,\n",
       "  'lease_10': 2592,\n",
       "  'lease_9': 2617,\n",
       "  'lease_8': 2616,\n",
       "  'lease_7': 2688,\n",
       "  'lease_6': 2756,\n",
       "  'lease_5': 4333,\n",
       "  'lease_4': 2971,\n",
       "  'lease_3': 3143},\n",
       " {'apartment': 'The Verge',\n",
       "  'floorplan': 'Greenway',\n",
       "  'unit': '2452',\n",
       "  'floor': -1,\n",
       "  'lease_15': 2489,\n",
       "  'lease_14': 2519,\n",
       "  'lease_13': 2521,\n",
       "  'lease_12': 2489,\n",
       "  'lease_11': 2562,\n",
       "  'lease_10': 2582,\n",
       "  'lease_9': 2607,\n",
       "  'lease_8': 2606,\n",
       "  'lease_7': 2678,\n",
       "  'lease_6': 2745,\n",
       "  'lease_5': 4317,\n",
       "  'lease_4': 2960,\n",
       "  'lease_3': 3133},\n",
       " {'apartment': 'The Verge',\n",
       "  'floorplan': 'Greenway',\n",
       "  'unit': '2466',\n",
       "  'floor': -1,\n",
       "  'lease_15': 2444,\n",
       "  'lease_14': 2473,\n",
       "  'lease_13': 2475,\n",
       "  'lease_12': 2444,\n",
       "  'lease_11': 2516,\n",
       "  'lease_10': 2536,\n",
       "  'lease_9': 2561,\n",
       "  'lease_8': 2561,\n",
       "  'lease_7': 2632,\n",
       "  'lease_6': 2700,\n",
       "  'lease_5': 4244,\n",
       "  'lease_4': 2915,\n",
       "  'lease_3': 3088},\n",
       " {'apartment': 'The Verge',\n",
       "  'floorplan': 'Greenway',\n",
       "  'unit': '2518',\n",
       "  'floor': -1,\n",
       "  'lease_15': 2439,\n",
       "  'lease_14': 2468,\n",
       "  'lease_13': 2470,\n",
       "  'lease_12': 2439,\n",
       "  'lease_11': 2511,\n",
       "  'lease_10': 2531,\n",
       "  'lease_9': 2556,\n",
       "  'lease_8': 2556,\n",
       "  'lease_7': 2627,\n",
       "  'lease_6': 2695,\n",
       "  'lease_5': 4236,\n",
       "  'lease_4': 2910,\n",
       "  'lease_3': 3083},\n",
       " {'apartment': 'The Verge',\n",
       "  'floorplan': 'Greenway',\n",
       "  'unit': '2525',\n",
       "  'floor': -1,\n",
       "  'lease_15': 2494,\n",
       "  'lease_14': 2524,\n",
       "  'lease_13': 2526,\n",
       "  'lease_12': 2494,\n",
       "  'lease_11': 2567,\n",
       "  'lease_10': 2587,\n",
       "  'lease_9': 2612,\n",
       "  'lease_8': 2611,\n",
       "  'lease_7': 2683,\n",
       "  'lease_6': 2751,\n",
       "  'lease_5': 4325,\n",
       "  'lease_4': 2966,\n",
       "  'lease_3': 3138},\n",
       " {'apartment': 'The Verge',\n",
       "  'floorplan': 'Greenway',\n",
       "  'unit': '2549',\n",
       "  'floor': -1,\n",
       "  'lease_15': 2469,\n",
       "  'lease_14': 2498,\n",
       "  'lease_13': 2501,\n",
       "  'lease_12': 2469,\n",
       "  'lease_11': 2541,\n",
       "  'lease_10': 2561,\n",
       "  'lease_9': 2587,\n",
       "  'lease_8': 2586,\n",
       "  'lease_7': 2657,\n",
       "  'lease_6': 2725,\n",
       "  'lease_5': 4284,\n",
       "  'lease_4': 2940,\n",
       "  'lease_3': 3113},\n",
       " {'apartment': 'The Verge',\n",
       "  'floorplan': 'Greenway',\n",
       "  'unit': '2333',\n",
       "  'floor': -1,\n",
       "  'lease_15': 2489,\n",
       "  'lease_14': 2501,\n",
       "  'lease_13': 2489,\n",
       "  'lease_12': 2524,\n",
       "  'lease_11': 2547,\n",
       "  'lease_10': 2532,\n",
       "  'lease_9': 2626,\n",
       "  'lease_8': 2658,\n",
       "  'lease_7': 2701,\n",
       "  'lease_6': 2718,\n",
       "  'lease_5': 2840,\n",
       "  'lease_4': 2981,\n",
       "  'lease_3': 5677}]"
      ]
     },
     "execution_count": 6,
     "metadata": {},
     "output_type": "execute_result"
    }
   ],
   "source": [
    "APARTMENT = 'The Verge'\n",
    "\n",
    "FLOORPLANS = [\n",
    "    ('The Cusp', '17'),\n",
    "    ('Greenway', '18')\n",
    "]\n",
    "\n",
    "results = []\n",
    "for fp in FLOORPLANS:\n",
    "    \n",
    "    url = 'https://vergeapartments.com/floorplans/?action=check-availability&floorplan=' + fp[1]\n",
    "    page_response = requests.get(url, timeout=5, headers={'X-Requested-With': 'XMLHttpRequest'})\n",
    "    soup = BeautifulSoup(page_response.content, \"html.parser\")\n",
    "    \n",
    "    units = soup.find_all('tr', {'class': 'check-availability__row--lease-term'})\n",
    "    for unit in units:\n",
    "        data = {}\n",
    "        data['apartment'] = APARTMENT\n",
    "        data['floorplan'] = fp[0]\n",
    "        data['unit'] = unit['data-unit']\n",
    "        data['floor'] = -1\n",
    "        \n",
    "        leases = unit.find_all('label')\n",
    "        for lease in leases:\n",
    "            r = re.search('(\\d{1,2}) Months months at \\$(\\d{4})\\/mo', lease.text)\n",
    "            length = r.group(1)\n",
    "            price = int(r.group(2))\n",
    "            \n",
    "            data['lease_' + length] = price\n",
    "        \n",
    "        results.append(data)\n",
    "\n",
    "results"
   ]
  },
  {
   "cell_type": "code",
   "execution_count": 9,
   "metadata": {},
   "outputs": [
    {
     "name": "stdout",
     "output_type": "stream",
     "text": [
      "Multiple posts: [ObjectId('5c6cdca8199a99002dc513d7'), ObjectId('5c6cdca8199a99002dc513d8'), ObjectId('5c6cdca8199a99002dc513d9'), ObjectId('5c6cdca8199a99002dc513da'), ObjectId('5c6cdca8199a99002dc513db'), ObjectId('5c6cdca8199a99002dc513dc'), ObjectId('5c6cdca8199a99002dc513dd'), ObjectId('5c6cdca8199a99002dc513de'), ObjectId('5c6cdca8199a99002dc513df'), ObjectId('5c6cdca8199a99002dc513e0')]\n"
     ]
    }
   ],
   "source": [
    "client = MongoClient('db', 27017, username='apartments', password='apartments')\n",
    "\n",
    "db = client.apartments\n",
    "db_units = db.units\n",
    "\n",
    "db_result = db_units.insert_many(results)\n",
    "print('Multiple posts: {0}'.format(db_result.inserted_ids))"
   ]
  },
  {
   "cell_type": "code",
   "execution_count": 10,
   "metadata": {},
   "outputs": [
    {
     "data": {
      "text/plain": [
       "{'_id': ObjectId('5c6cdca8199a99002dc513e0'),\n",
       " 'apartment': 'The Verge',\n",
       " 'floorplan': 'Greenway',\n",
       " 'unit': '2333',\n",
       " 'floor': -1,\n",
       " 'lease_15': 2489,\n",
       " 'lease_14': 2501,\n",
       " 'lease_13': 2489,\n",
       " 'lease_12': 2524,\n",
       " 'lease_11': 2547,\n",
       " 'lease_10': 2532,\n",
       " 'lease_9': 2626,\n",
       " 'lease_8': 2658,\n",
       " 'lease_7': 2701,\n",
       " 'lease_6': 2718,\n",
       " 'lease_5': 2840,\n",
       " 'lease_4': 2981,\n",
       " 'lease_3': 5677}"
      ]
     },
     "execution_count": 10,
     "metadata": {},
     "output_type": "execute_result"
    }
   ],
   "source": [
    "db_units.find_one({'unit': '2333'})"
   ]
  },
  {
   "cell_type": "markdown",
   "metadata": {},
   "source": [
    "# Old"
   ]
  },
  {
   "cell_type": "code",
   "execution_count": 58,
   "metadata": {},
   "outputs": [
    {
     "name": "stdout",
     "output_type": "stream",
     "text": [
      "PostgreSQL database version:\n",
      "('PostgreSQL 11.2 on x86_64-pc-linux-musl, compiled by gcc (Alpine 8.2.0) 8.2.0, 64-bit',)\n"
     ]
    }
   ],
   "source": [
    "conn = psycopg2.connect(host=\"db\", database=\"apartments\", user=\"apartments\", password=\"apartments\")\n",
    "cur = conn.cursor()\n",
    "\n",
    "print('PostgreSQL database version:')\n",
    "cur.execute('SELECT version()')\n",
    "\n",
    "db_version = cur.fetchone()\n",
    "print(db_version)"
   ]
  },
  {
   "cell_type": "code",
   "execution_count": 14,
   "metadata": {},
   "outputs": [],
   "source": [
    "cur.execute(\"ROLLBACK\")"
   ]
  },
  {
   "cell_type": "code",
   "execution_count": 54,
   "metadata": {},
   "outputs": [],
   "source": [
    "sql = \"\"\"\n",
    "INSERT INTO unit(\n",
    "    apartment, \n",
    "    unit, \n",
    "    floorplan, \n",
    "    floor, \n",
    "    lease_3, \n",
    "    lease_4, \n",
    "    lease_5, \n",
    "    lease_6,\n",
    "    lease_7,\n",
    "    lease_8,\n",
    "    lease_9,\n",
    "    lease_10,\n",
    "    lease_11,\n",
    "    lease_12,\n",
    "    created_on\n",
    ") \n",
    "VALUES(\n",
    "    %(apartment)s,\n",
    "    %(unit)s,\n",
    "    %(floorplan)s,\n",
    "    %(floor)s,\n",
    "    %(lease_3)s,\n",
    "    %(lease_4)s,\n",
    "    %(lease_5)s,\n",
    "    %(lease_6)s,\n",
    "    %(lease_7)s,\n",
    "    %(lease_8)s,\n",
    "    %(lease_9)s,\n",
    "    %(lease_10)s,\n",
    "    %(lease_11)s,\n",
    "    %(lease_12)s,\n",
    "    current_timestamp\n",
    ")\n",
    "\"\"\"\n",
    "cur.executemany(sql, results)\n",
    "conn.commit()"
   ]
  },
  {
   "cell_type": "code",
   "execution_count": 59,
   "metadata": {},
   "outputs": [
    {
     "name": "stdout",
     "output_type": "stream",
     "text": [
      "[(1, 'The Verge', '2380', 'The Cusp', -1, None, None, 2967, 2770, 4110, 2574, 2517, 2475, 2443, 2424, 2409, 2377, None, None, None, datetime.datetime(2019, 2, 19, 8, 13, 3, 426725)), (2, 'The Verge', '1466', 'The Cusp', -1, None, None, 5629, 2947, 2817, 2703, 2691, 2652, 2623, 2531, 2548, 2527, None, None, None, datetime.datetime(2019, 2, 19, 8, 13, 3, 426725)), (3, 'The Verge', '2639', 'The Cusp', -1, None, None, 5498, 2881, 2751, 2637, 2625, 2586, 2556, 2466, 2482, 2461, None, None, None, datetime.datetime(2019, 2, 19, 8, 13, 3, 426725)), (4, 'The Verge', '1367', 'Greenway', -1, None, None, 3175, 3003, 4384, 2788, 2720, 2649, 2650, 2625, 2605, 2531, None, None, None, datetime.datetime(2019, 2, 19, 8, 13, 3, 426725)), (5, 'The Verge', '2452', 'Greenway', -1, None, None, 3165, 2993, 4368, 2778, 2710, 2639, 2640, 2614, 2594, 2521, None, None, None, datetime.datetime(2019, 2, 19, 8, 13, 3, 426725)), (6, 'The Verge', '2466', 'Greenway', -1, None, None, 3120, 2947, 4296, 2732, 2664, 2593, 2594, 2569, 2549, 2476, None, None, None, datetime.datetime(2019, 2, 19, 8, 13, 3, 426725)), (7, 'The Verge', '2518', 'Greenway', -1, None, None, 3115, 2942, 4288, 2727, 2659, 2588, 2589, 2563, 2543, 2471, None, None, None, datetime.datetime(2019, 2, 19, 8, 13, 3, 426725)), (8, 'The Verge', '2525', 'Greenway', -1, None, None, 3170, 2998, 4376, 2783, 2715, 2644, 2645, 2620, 2600, 2526, None, None, None, datetime.datetime(2019, 2, 19, 8, 13, 3, 426725)), (9, 'The Verge', '2549', 'Greenway', -1, None, None, 3145, 2973, 4336, 2758, 2690, 2618, 2619, 2594, 2574, 2501, None, None, None, datetime.datetime(2019, 2, 19, 8, 13, 3, 426725)), (10, 'The Verge', '2333', 'Greenway', -1, None, None, 5742, 3014, 2872, 2750, 2734, 2691, 2658, 2564, 2579, 2556, None, None, None, datetime.datetime(2019, 2, 19, 8, 13, 3, 426725)), (11, 'Ava Pacific Beach', '00C-C111', 'TODO', 1, None, 3445, 3400, 3365, 4085, 3230, 3520, 3150, 3190, 2455, 2590, 2585, None, None, None, datetime.datetime(2019, 2, 19, 8, 20, 3, 226277)), (12, 'Ava Pacific Beach', '00S-S307', 'TODO', 3, None, 3460, 3415, 3380, 4100, 3245, 3535, 3165, 3205, 2470, 2605, 2600, None, None, None, datetime.datetime(2019, 2, 19, 8, 20, 3, 226277)), (13, 'Ava Pacific Beach', '00V-V206', 'TODO', 2, None, 3560, 3515, 3480, 4200, 3345, 3635, 3265, 3305, 2570, 2705, 2700, None, None, None, datetime.datetime(2019, 2, 19, 8, 20, 3, 226277)), (14, 'Ava Pacific Beach', '00V-V106', 'TODO', 1, None, 3570, 3525, 3490, 4210, 3355, 3645, 3275, 3315, 2580, 2715, 2710, None, None, None, datetime.datetime(2019, 2, 19, 8, 20, 3, 226277)), (15, 'Ava Pacific Beach', '00G-G209', 'TODO', 2, None, 3575, 3530, 3495, 4215, 3360, 3650, 3280, 3320, 2585, 2720, 2715, None, None, None, datetime.datetime(2019, 2, 19, 8, 20, 3, 226277)), (16, 'Ava Pacific Beach', '00P-P303', 'TODO', 3, None, 3465, 3425, 4145, 3630, 3580, 3210, 3260, 3235, 2790, 2785, 2575, None, None, None, datetime.datetime(2019, 2, 19, 8, 20, 3, 226277)), (17, 'Ava Pacific Beach', '00H-H311', 'TODO', 3, None, 3510, 3470, 4190, 3675, 3625, 3255, 3305, 3280, 2835, 2830, 2620, None, None, None, datetime.datetime(2019, 2, 19, 8, 20, 3, 226277)), (18, 'Ava Pacific Beach', '00S-S102', 'TODO', 1, None, 3465, 3425, 4145, 3630, 3580, 3210, 3260, 3235, 2790, 2785, 2575, None, None, None, datetime.datetime(2019, 2, 19, 8, 20, 3, 226277)), (19, 'Ava Pacific Beach', '00L-L212', 'TODO', 2, None, 3474, 3429, 3394, 4114, 3259, 3549, 3179, 3219, 2484, 2619, 2614, None, None, None, datetime.datetime(2019, 2, 19, 8, 20, 3, 226277)), (20, 'Ava Pacific Beach', '00T-T314', 'TODO', 3, None, 3530, 3485, 3450, 4170, 3315, 3605, 3235, 3275, 2540, 2675, 2670, None, None, None, datetime.datetime(2019, 2, 19, 8, 20, 3, 226277)), (21, 'Ava Pacific Beach', '00A-A309', 'TODO', 3, None, 3535, 3490, 3455, 4175, 3320, 3610, 3240, 3280, 2545, 2680, 2675, None, None, None, datetime.datetime(2019, 2, 19, 8, 20, 3, 226277)), (22, 'Ava Pacific Beach', '00T-T115', 'TODO', 1, None, 3535, 3490, 3455, 4175, 3320, 3610, 3240, 3280, 2545, 2680, 2675, None, None, None, datetime.datetime(2019, 2, 19, 8, 20, 3, 226277)), (23, 'Ava Pacific Beach', '00A-A110', 'TODO', 1, None, 3495, 3455, 4175, 3660, 3610, 3240, 3290, 3265, 2820, 2815, 2605, None, None, None, datetime.datetime(2019, 2, 19, 8, 20, 3, 226277)), (24, 'Ava Pacific Beach', '00D-D206', 'TODO', 2, None, 3565, 3520, 3485, 4205, 3350, 3640, 3270, 3310, 2575, 2710, 2705, None, None, None, datetime.datetime(2019, 2, 19, 8, 20, 3, 226277)), (25, 'Ava Pacific Beach', '00V-V101', 'TODO', 1, None, 3640, 3595, 3560, 4280, 3425, 3715, 3345, 3385, 2650, 2785, 2780, None, None, None, datetime.datetime(2019, 2, 19, 8, 20, 3, 226277)), (26, 'Ava Pacific Beach', '00V-V102', 'TODO', 1, None, 3695, 3650, 3615, 4335, 3480, 3770, 3400, 3440, 2705, 2840, 2835, None, None, None, datetime.datetime(2019, 2, 19, 8, 20, 3, 226277)), (27, 'Ava Pacific Beach', '00B-B106', 'TODO', 1, None, 3575, 3530, 3495, 4215, 3360, 3650, 3280, 3320, 2585, 2720, 2715, None, None, None, datetime.datetime(2019, 2, 19, 8, 20, 3, 226277)), (28, 'Ava Pacific Beach', '00H-H201', 'TODO', 2, None, 3620, 3580, 4300, 3785, 3735, 3365, 3415, 3390, 2945, 2940, 2730, None, None, None, datetime.datetime(2019, 2, 19, 8, 20, 3, 226277)), (29, 'Ava Pacific Beach', '00D-D303', 'TODO', 3, None, 3580, 3540, 4260, 3745, 3695, 3325, 3375, 3350, 2905, 2900, 2690, None, None, None, datetime.datetime(2019, 2, 19, 8, 20, 3, 226277)), (30, 'Ava Pacific Beach', '00D-D203', 'TODO', 2, None, 3457, 3417, 4137, 3622, 3572, 3202, 3252, 3227, 2782, 2777, 2567, None, None, None, datetime.datetime(2019, 2, 19, 8, 20, 3, 226277))]\n"
     ]
    }
   ],
   "source": [
    "cur.execute('SELECT * from unit')\n",
    "\n",
    "rows = cur.fetchall()\n",
    "print(rows)"
   ]
  },
  {
   "cell_type": "code",
   "execution_count": 56,
   "metadata": {},
   "outputs": [],
   "source": [
    "cur.close()\n",
    "conn.close()"
   ]
  }
 ],
 "metadata": {
  "kernelspec": {
   "display_name": "Python 3",
   "language": "python",
   "name": "python3"
  },
  "language_info": {
   "codemirror_mode": {
    "name": "ipython",
    "version": 3
   },
   "file_extension": ".py",
   "mimetype": "text/x-python",
   "name": "python",
   "nbconvert_exporter": "python",
   "pygments_lexer": "ipython3",
   "version": "3.7.2"
  }
 },
 "nbformat": 4,
 "nbformat_minor": 2
}
